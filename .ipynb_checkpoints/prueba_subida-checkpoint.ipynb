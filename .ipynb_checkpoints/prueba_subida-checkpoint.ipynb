{
 "cells": [
  {
   "cell_type": "code",
   "execution_count": 1,
   "metadata": {
    "id": "eWF9cdJyNbfx"
   },
   "outputs": [],
   "source": [
    "import pandas as pd\n",
    "import numpy as np\n",
    "\n"
   ]
  },
  {
   "cell_type": "code",
   "execution_count": 2,
   "metadata": {
    "colab": {
     "base_uri": "https://localhost:8080/",
     "height": 141
    },
    "id": "OoB-W1J9N5ea",
    "outputId": "a977c63b-0b64-46fe-9ee9-4211442d7f51"
   },
   "outputs": [],
   "source": [
    "ficheros_subidos = 'archivo_temporal.csv'\n",
    "configuracion_openai = 'openai_config.csv'"
   ]
  },
  {
   "cell_type": "code",
   "execution_count": 7,
   "metadata": {
    "id": "gE5a_kdrNkD5"
   },
   "outputs": [],
   "source": [
    "df = pd.read_csv(ficheros_subidos,sep=\";\")\n",
    "#df_openai = pd.read_csv(configuracion_openai, sep=\",\")"
   ]
  },
  {
   "cell_type": "code",
   "execution_count": 9,
   "metadata": {},
   "outputs": [
    {
     "data": {
      "text/plain": [
       "'Hola'"
      ]
     },
     "execution_count": 9,
     "metadata": {},
     "output_type": "execute_result"
    }
   ],
   "source": [
    "#clave = df_openai['Key'].iloc[0]\n",
    "#clave\n"
   ]
  },
  {
   "cell_type": "code",
   "execution_count": 10,
   "metadata": {},
   "outputs": [
    {
     "data": {
      "text/plain": [
       "'Hola2'"
      ]
     },
     "execution_count": 10,
     "metadata": {},
     "output_type": "execute_result"
    }
   ],
   "source": [
    "#organizacion = df_openai['Organization'].iloc[0]\n",
    "#organizacion"
   ]
  },
  {
   "cell_type": "code",
   "execution_count": 6,
   "metadata": {},
   "outputs": [
    {
     "name": "stdout",
     "output_type": "stream",
     "text": [
      "              App          Type  \\\n",
      "0  Microsoft Edge  AppTrackItem   \n",
      "1  Microsoft Edge  AppTrackItem   \n",
      "2  Microsoft Edge  AppTrackItem   \n",
      "3  Microsoft Edge  AppTrackItem   \n",
      "4  Microsoft Edge  AppTrackItem   \n",
      "\n",
      "                                               Title            Begin  \\\n",
      "0  Utrecht University - Sign in - Work - Microsof...  06/03/2023 8:32   \n",
      "1                    Google - Work - Microsoft​ Edge  06/03/2023 8:32   \n",
      "2  Google Agenda - Planning start op maandag, 6 m...  06/03/2023 8:32   \n",
      "3  Google Agenda - Afspraakgegevens - Work - Micr...  06/03/2023 8:33   \n",
      "4  Google Agenda - Planning start op maandag, 6 m...  06/03/2023 8:33   \n",
      "\n",
      "               End                            WP flow activity         Case  \\\n",
      "0  06/03/2023 8:32  Organizing practical aspects for the group  BPM&A group   \n",
      "1  06/03/2023 8:32  Organizing practical aspects for the group  BPM&A group   \n",
      "2  06/03/2023 8:33  Organizing practical aspects for the group  BPM&A group   \n",
      "3  06/03/2023 8:33  Organizing practical aspects for the group  BPM&A group   \n",
      "4  06/03/2023 8:33  Organizing practical aspects for the group  BPM&A group   \n",
      "\n",
      "  Notes  \n",
      "0   NaN  \n",
      "1   NaN  \n",
      "2   NaN  \n",
      "3   NaN  \n",
      "4   NaN  \n"
     ]
    }
   ],
   "source": [
    "#print(df.head())"
   ]
  },
  {
   "cell_type": "code",
   "execution_count": null,
   "metadata": {
    "id": "J5GmskMOW1Yw"
   },
   "outputs": [],
   "source": [
    "df.to_excel('resultados.xlsx', index=False)"
   ]
  }
 ],
 "metadata": {
  "colab": {
   "provenance": []
  },
  "kernelspec": {
   "display_name": "Python 3 (ipykernel)",
   "language": "python",
   "name": "python3"
  },
  "language_info": {
   "codemirror_mode": {
    "name": "ipython",
    "version": 3
   },
   "file_extension": ".py",
   "mimetype": "text/x-python",
   "name": "python",
   "nbconvert_exporter": "python",
   "pygments_lexer": "ipython3",
   "version": "3.9.13"
  }
 },
 "nbformat": 4,
 "nbformat_minor": 1
}
